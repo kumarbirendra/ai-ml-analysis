{
  "nbformat": 4,
  "nbformat_minor": 0,
  "metadata": {
    "colab": {
      "name": "Tripxoxo.ipynb",
      "provenance": [],
      "authorship_tag": "ABX9TyNydB1as8tP6XeJgqnyjWe5",
      "include_colab_link": true
    },
    "kernelspec": {
      "name": "python3",
      "display_name": "Python 3"
    }
  },
  "cells": [
    {
      "cell_type": "markdown",
      "metadata": {
        "id": "view-in-github",
        "colab_type": "text"
      },
      "source": [
        "<a href=\"https://colab.research.google.com/github/kumarbirendra/ai-ml-analysis/blob/master/Tripxoxo.ipynb\" target=\"_parent\"><img src=\"https://colab.research.google.com/assets/colab-badge.svg\" alt=\"Open In Colab\"/></a>"
      ]
    },
    {
      "cell_type": "code",
      "metadata": {
        "id": "_PtwRuQTJxlS",
        "colab_type": "code",
        "colab": {}
      },
      "source": [
        "import requests\n",
        "import webbrowser\n",
        "import re\n",
        "from bs4 import BeautifulSoup\n",
        "param = {}\n",
        "headers = {'User-Agent': 'Mozilla/5.0 (Windows NT 10.0; Win64; x64) AppleWebKit/537.36 (KHTML, like Gecko) Chrome/84.0.4147.89 Safari/537.36','Accept-Encoding': 'gzip, deflate', 'Accept': '*/*','content-type': 'text/html; charset=UTF-8'}\n",
        "r = requests.get('https://www.tripxoxo.com/catalog/product/view/id/164484/s/birdpark/',headers=headers)\n",
        "\n"
      ],
      "execution_count": 8,
      "outputs": []
    },
    {
      "cell_type": "code",
      "metadata": {
        "id": "9hxBSF5OJ1jG",
        "colab_type": "code",
        "colab": {}
      },
      "source": [
        "session = requests.Session()\n",
        "\n",
        "r = session.get('https://www.tripxoxo.com/experience-military-aircraft-fighter-jet-in-mumbai.html',headers=headers)\n"
      ],
      "execution_count": 9,
      "outputs": []
    },
    {
      "cell_type": "code",
      "metadata": {
        "id": "biUk6og_P06P",
        "colab_type": "code",
        "colab": {
          "base_uri": "https://localhost:8080/",
          "height": 34
        },
        "outputId": "814d47b2-5cdc-4bab-bd28-46b6548facd5"
      },
      "source": [
        "r = session.get(\"https://www.tripxoxo.com/checkout/onepage/\",headers=headers)\n",
        "\n",
        "if (str(soup).find(\"pointspay\") >=0):\n",
        "  print(\"PointsPay Supported\")"
      ],
      "execution_count": 10,
      "outputs": [
        {
          "output_type": "stream",
          "text": [
            "PointsPay Supported\n"
          ],
          "name": "stdout"
        }
      ]
    },
    {
      "cell_type": "code",
      "metadata": {
        "id": "USzOP2HfOwP2",
        "colab_type": "code",
        "colab": {}
      },
      "source": [
        ""
      ],
      "execution_count": null,
      "outputs": []
    }
  ]
}