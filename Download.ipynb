{
  "nbformat": 4,
  "nbformat_minor": 0,
  "metadata": {
    "colab": {
      "name": "Download.ipynb",
      "provenance": [],
      "authorship_tag": "ABX9TyNPmK64vE+XZckY6ZxyJqSt",
      "include_colab_link": true
    },
    "kernelspec": {
      "name": "python3",
      "display_name": "Python 3"
    }
  },
  "cells": [
    {
      "cell_type": "markdown",
      "metadata": {
        "id": "view-in-github",
        "colab_type": "text"
      },
      "source": [
        "<a href=\"https://colab.research.google.com/github/kumarbirendra/ai-ml-analysis/blob/master/Download.ipynb\" target=\"_parent\"><img src=\"https://colab.research.google.com/assets/colab-badge.svg\" alt=\"Open In Colab\"/></a>"
      ]
    },
    {
      "cell_type": "code",
      "metadata": {
        "id": "teLXsPWS7ts9",
        "colab_type": "code",
        "colab": {}
      },
      "source": [
        "import os\n",
        "os.makedirs('./img/', exist_ok=True)\n",
        "\n",
        "IMAGE_URL = \"https://morvanzhou.github.io/static/img/description/learning_step_flowchart.png\""
      ],
      "execution_count": 1,
      "outputs": []
    },
    {
      "cell_type": "code",
      "metadata": {
        "id": "jIUh99dC7xQl",
        "colab_type": "code",
        "colab": {
          "base_uri": "https://localhost:8080/",
          "height": 34
        },
        "outputId": "c9c1ddbb-391e-4550-bbd6-45c030bb9dd4"
      },
      "source": [
        "\n",
        "from urllib.request import urlretrieve\n",
        "urlretrieve(IMAGE_URL, './img/image1.png')      # whole document"
      ],
      "execution_count": 2,
      "outputs": [
        {
          "output_type": "execute_result",
          "data": {
            "text/plain": [
              "('./img/image1.png', <http.client.HTTPMessage at 0x7f67b4755240>)"
            ]
          },
          "metadata": {
            "tags": []
          },
          "execution_count": 2
        }
      ]
    },
    {
      "cell_type": "code",
      "metadata": {
        "id": "b3pOEWaE72n1",
        "colab_type": "code",
        "colab": {}
      },
      "source": [
        "import requests\n",
        "r = requests.get(IMAGE_URL)\n",
        "with open('./img/image2.png', 'wb') as f:\n",
        "    f.write(r.content)   "
      ],
      "execution_count": 3,
      "outputs": []
    },
    {
      "cell_type": "code",
      "metadata": {
        "id": "TAHsgVtj7-hp",
        "colab_type": "code",
        "colab": {}
      },
      "source": [
        "r = requests.get(IMAGE_URL, stream=True)    # stream loading\n",
        "\n",
        "with open('./img/image3.png', 'wb') as f:\n",
        "    for chunk in r.iter_content(chunk_size=32):\n",
        "        f.write(chunk)"
      ],
      "execution_count": 4,
      "outputs": []
    },
    {
      "cell_type": "code",
      "metadata": {
        "id": "d1LahVVs8FT8",
        "colab_type": "code",
        "colab": {}
      },
      "source": [
        ""
      ],
      "execution_count": null,
      "outputs": []
    }
  ]
}