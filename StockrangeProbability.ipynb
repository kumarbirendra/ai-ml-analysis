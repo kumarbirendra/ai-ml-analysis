{
  "nbformat": 4,
  "nbformat_minor": 0,
  "metadata": {
    "colab": {
      "provenance": [],
      "authorship_tag": "ABX9TyOeN4MvPhT05ZJlQISSpaxW",
      "include_colab_link": true
    },
    "kernelspec": {
      "name": "python3",
      "display_name": "Python 3"
    },
    "language_info": {
      "name": "python"
    }
  },
  "cells": [
    {
      "cell_type": "markdown",
      "metadata": {
        "id": "view-in-github",
        "colab_type": "text"
      },
      "source": [
        "<a href=\"https://colab.research.google.com/github/kumarbirendra/ai-ml-analysis/blob/master/StockrangeProbability.ipynb\" target=\"_parent\"><img src=\"https://colab.research.google.com/assets/colab-badge.svg\" alt=\"Open In Colab\"/></a>"
      ]
    },
    {
      "cell_type": "code",
      "execution_count": 1,
      "metadata": {
        "id": "LCBRh4PjVBKd"
      },
      "outputs": [],
      "source": [
        "import numpy as np\n",
        "from scipy.stats import norm, lognorm\n",
        "import matplotlib.pyplot as plt\n",
        "%matplotlib inline\n"
      ]
    },
    {
      "cell_type": "code",
      "source": [
        "#  Function for the log-normal equation above\n",
        "\n",
        "def lognormal(s, s0, r, sigma, t):\n",
        "    return 1 / (s * sigma * np.sqrt(2 * np.pi * t)) * np.exp(  -(np.log(s) - np.log(s0) - (r - sigma**2/2) * t)**2 / (2*sigma**2 * t))\n",
        "    "
      ],
      "metadata": {
        "id": "SPelPO_-V_Lw"
      },
      "execution_count": 2,
      "outputs": []
    },
    {
      "cell_type": "markdown",
      "source": [
        "We'll consider a stock starting at 100 and look at the probability that a year later, it'll be between 100 and 120."
      ],
      "metadata": {
        "id": "PGdu-DPRWRcH"
      }
    },
    {
      "cell_type": "code",
      "source": [
        "S0 = 1000        #  Initial stock price\n",
        "r = 0.01         #  Assumed drift rate\n",
        "t = 1            #  Time \n",
        "sigma = 0.25     #  Volatility\n",
        "\n",
        "#  We are interested in the range 100 to 120\n",
        "S = np.linspace(100, 120, 1000)\n",
        "\n",
        "#  The proability is the area under the curve as noted above\n",
        "print( np.trapz(lognormal(S, S0, r, sigma, t), S) )"
      ],
      "metadata": {
        "colab": {
          "base_uri": "https://localhost:8080/"
        },
        "id": "f8U4L3qYWqjs",
        "outputId": "be268274-50b1-4467-9d51-f18c4b3c0549"
      },
      "execution_count": 6,
      "outputs": [
        {
          "output_type": "stream",
          "name": "stdout",
          "text": [
            "2.305094312989615e-17\n"
          ]
        }
      ]
    },
    {
      "cell_type": "code",
      "source": [],
      "metadata": {
        "id": "oT20ASYRWxSL"
      },
      "execution_count": null,
      "outputs": []
    },
    {
      "cell_type": "markdown",
      "source": [
        "Black-Scholes\n",
        "First, a bit on notation. We will denote the distribution functions as follows:\n",
        "\n",
        " Normal probability density function\n",
        " normal cumulative density function\n",
        "\n",
        "For more information on the normal distribution see https://en.wikipedia.org/wiki/Normal_distribution\n",
        "\n",
        "We define the following symbols:\n",
        "\n",
        " = Stock Price\n",
        " = Strike price\n",
        " = Time to expiration (years)\n",
        " = Risk-free rate\n",
        " = Implied Volatility\n",
        " The Black Scholes model gives:\n",
        "\n",
        "Call Price = \n",
        "\n",
        "Put Price = \n",
        "In the above equations, \n",
        " and \n",
        " are given respectively by,\n",
        " \n",
        " \n",
        " \n",
        "and\n",
        "\n",
        "The proability of a call being in-the-money is given by \n",
        ".\n",
        "\n",
        "Functions that return the Black-Scholes price of an option and the values of \n",
        " and \n",
        " are given in the cell below."
      ],
      "metadata": {
        "id": "Cip-xNSfXHFp"
      }
    },
    {
      "cell_type": "code",
      "source": [
        "def d(sigma, S, K, r, t):\n",
        "    d1 = 1 / (sigma * np.sqrt(t)) * ( np.log(S/K) + (r + sigma**2/2) * t)\n",
        "    d2 = d1 - sigma * np.sqrt(t)\n",
        "    return d1, d2"
      ],
      "metadata": {
        "id": "rVhJK_mZXOlw"
      },
      "execution_count": 4,
      "outputs": []
    },
    {
      "cell_type": "code",
      "source": [
        "d120 = d(sigma, 100, 120, r, t)[1]  #  100 strike\n",
        "d100 = d(sigma, 100, 100, r, t)[1]  #  120 strike\n",
        "\n",
        "#  prob of being between 100 and 120\n",
        "norm.cdf(d100) - norm.cdf(d120)"
      ],
      "metadata": {
        "colab": {
          "base_uri": "https://localhost:8080/"
        },
        "id": "AY4fasBVXU5o",
        "outputId": "8db5f2ec-c681-44da-aa46-28b38eee1ae1"
      },
      "execution_count": 5,
      "outputs": [
        {
          "output_type": "execute_result",
          "data": {
            "text/plain": [
              "0.25839019638580907"
            ]
          },
          "metadata": {},
          "execution_count": 5
        }
      ]
    },
    {
      "cell_type": "code",
      "source": [],
      "metadata": {
        "id": "_LR94LQGXX27"
      },
      "execution_count": null,
      "outputs": []
    }
  ]
}