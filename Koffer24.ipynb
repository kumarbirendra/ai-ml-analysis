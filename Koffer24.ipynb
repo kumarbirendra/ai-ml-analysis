{
  "nbformat": 4,
  "nbformat_minor": 0,
  "metadata": {
    "colab": {
      "name": "Koffer24.ipynb",
      "provenance": [],
      "authorship_tag": "ABX9TyM1jUzmQMGHHl6eeg36CEBx",
      "include_colab_link": true
    },
    "kernelspec": {
      "name": "python3",
      "display_name": "Python 3"
    }
  },
  "cells": [
    {
      "cell_type": "markdown",
      "metadata": {
        "id": "view-in-github",
        "colab_type": "text"
      },
      "source": [
        "<a href=\"https://colab.research.google.com/github/kumarbirendra/ai-ml-analysis/blob/master/Koffer24.ipynb\" target=\"_parent\"><img src=\"https://colab.research.google.com/assets/colab-badge.svg\" alt=\"Open In Colab\"/></a>"
      ]
    },
    {
      "cell_type": "code",
      "metadata": {
        "id": "AYQuOYTgACBY",
        "colab_type": "code",
        "colab": {}
      },
      "source": [
        "import requests\n",
        "import webbrowser\n",
        "import re\n",
        "from bs4 import BeautifulSoup\n",
        "param = {}\n",
        "headers = {'User-Agent': 'Mozilla/5.0 (Windows NT 10.0; Win64; x64) AppleWebKit/537.36 (KHTML, like Gecko) Chrome/84.0.4147.89 Safari/537.36','Accept-Encoding': 'gzip, deflate', 'Accept': '*/*', 'Connection': 'keep-alive'}\n"
      ],
      "execution_count": 1,
      "outputs": []
    },
    {
      "cell_type": "code",
      "metadata": {
        "id": "-0aB-urxHVUN",
        "colab_type": "code",
        "colab": {}
      },
      "source": [
        "r = requests.get('https://www.koffer24.com/en/wallets-belts/',headers=headers)\n",
        "#print(r.text)\n",
        "#webbrowser.open(r.url)"
      ],
      "execution_count": 8,
      "outputs": []
    },
    {
      "cell_type": "code",
      "metadata": {
        "id": "kSJNIto5AOBf",
        "colab_type": "code",
        "colab": {
          "base_uri": "https://localhost:8080/",
          "height": 34
        },
        "outputId": "9dcd9cf6-5d50-4b86-a146-ba695beb6b29"
      },
      "source": [
        "session = requests.Session()\n",
        "param = {'productId':'f2390773-93f7-4fd6-8a49-47fb4de1dfde','variantId':'1'}\n",
        "r = session.get('https://www.koffer24.com/api/cart/add',data=param,headers=headers)\n",
        "#print(r.text)\n",
        "r = session.get(\"https://www.koffer24.com/checkout/\",headers=headers)\n",
        "#print(r.text)\n",
        "\n",
        "soup = BeautifulSoup(r.text, 'lxml')\n",
        "data = soup.text\n",
        "#print(soup)\n",
        "if (str(soup).find(\"Points Pay\") >=0):\n",
        "    print(\"Koffer24 is PointsPay Supported\")"
      ],
      "execution_count": 9,
      "outputs": [
        {
          "output_type": "stream",
          "text": [
            "Koffer24 is PointsPay Supported\n"
          ],
          "name": "stdout"
        }
      ]
    },
    {
      "cell_type": "code",
      "metadata": {
        "id": "YbCpG9s2Cjru",
        "colab_type": "code",
        "colab": {
          "base_uri": "https://localhost:8080/",
          "height": 34
        },
        "outputId": "85fb212a-c14e-44fc-a369-66433a9479e1"
      },
      "source": [
        "\n",
        "session = requests.Session()\n",
        "r = session.get(\"https://www.ux.forzieri.com/bags\",headers=headers)\n",
        "r = session.get(\"https://www.ux.forzieri.com/handbags/balmain/bn130220-014-00\",headers=headers)\n",
        "\n",
        "payload = {'l': 'usa','c': 'ita','pf_id': 'bn130220-014','dept_id': '18','nc': '1','wishlist.x':'' ,'product_type': '0','sku': 'bn130220-014-00','qty': '1'}\n",
        "r = session.post('https://www.ux.forzieri.com/gest/xt_wishlist_dispatcher.asp?l=usa&c=ita', data=payload,headers=headers)\n",
        "\n",
        "r = session.get(\"https://secure.forzieri.com/usa/checkout_step4.asp?l=usa&c=ita&noregister=1\",headers=headers)\n",
        "#print(r.text)\n",
        "\n",
        "soup = BeautifulSoup(r.text, 'lxml')\n",
        "data = soup.text\n",
        "#print(soup)\n",
        "if (str(soup).find(\"PointsPay\") >=0):\n",
        "    print(\"Forzieri is PointsPay Supported\")"
      ],
      "execution_count": 10,
      "outputs": [
        {
          "output_type": "stream",
          "text": [
            "Forzieri is PointsPay Supported\n"
          ],
          "name": "stdout"
        }
      ]
    },
    {
      "cell_type": "code",
      "metadata": {
        "id": "G3dterf9HaM0",
        "colab_type": "code",
        "colab": {}
      },
      "source": [
        ""
      ],
      "execution_count": null,
      "outputs": []
    }
  ]
}