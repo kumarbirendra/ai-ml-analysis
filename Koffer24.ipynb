{
  "nbformat": 4,
  "nbformat_minor": 0,
  "metadata": {
    "colab": {
      "name": "Koffer24.ipynb",
      "provenance": [],
      "authorship_tag": "ABX9TyPvAkKijMIALrKKWbudQz6O",
      "include_colab_link": true
    },
    "kernelspec": {
      "name": "python3",
      "display_name": "Python 3"
    }
  },
  "cells": [
    {
      "cell_type": "markdown",
      "metadata": {
        "id": "view-in-github",
        "colab_type": "text"
      },
      "source": [
        "<a href=\"https://colab.research.google.com/github/kumarbirendra/ai-ml-analysis/blob/master/Koffer24.ipynb\" target=\"_parent\"><img src=\"https://colab.research.google.com/assets/colab-badge.svg\" alt=\"Open In Colab\"/></a>"
      ]
    },
    {
      "cell_type": "code",
      "metadata": {
        "id": "AYQuOYTgACBY",
        "colab_type": "code",
        "colab": {}
      },
      "source": [
        "import requests\n",
        "import webbrowser\n",
        "import re\n",
        "from bs4 import BeautifulSoup\n",
        "param = {}\n",
        "headers = {'User-Agent': 'Mozilla/5.0 (Windows NT 10.0; Win64; x64) AppleWebKit/537.36 (KHTML, like Gecko) Chrome/84.0.4147.89 Safari/537.36','Accept-Encoding': 'gzip, deflate', 'Accept': '*/*', 'Connection': 'keep-alive'}\n",
        "r = requests.get('https://www.koffer24.com/en/wallets-belts/',headers=headers)\n",
        "print(r.text)\n",
        "#webbrowser.open(r.url)"
      ],
      "execution_count": null,
      "outputs": []
    },
    {
      "cell_type": "code",
      "metadata": {
        "id": "kSJNIto5AOBf",
        "colab_type": "code",
        "colab": {}
      },
      "source": [
        "session = requests.Session()\n",
        "param = {'productId':'f2390773-93f7-4fd6-8a49-47fb4de1dfde','variantId':'1'}\n",
        "r = session.get('https://www.koffer24.com/api/cart/add',data=param,headers=headers)\n",
        "#print(r.text)\n",
        "r = session.get(\"https://www.koffer24.com/checkout/\",headers=headers)\n",
        "#print(r.text)\n",
        "\n",
        "soup = BeautifulSoup(r.text, 'lxml')\n",
        "data = soup.text\n",
        "print(soup)\n",
        "if (str(soup).find(\"Points Pay\") >=0):\n",
        "    print(\"PointsPay Supported\")"
      ],
      "execution_count": null,
      "outputs": []
    },
    {
      "cell_type": "code",
      "metadata": {
        "id": "YbCpG9s2Cjru",
        "colab_type": "code",
        "colab": {}
      },
      "source": [
        ""
      ],
      "execution_count": null,
      "outputs": []
    }
  ]
}