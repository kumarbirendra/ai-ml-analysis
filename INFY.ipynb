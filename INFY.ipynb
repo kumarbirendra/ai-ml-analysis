{
  "nbformat": 4,
  "nbformat_minor": 0,
  "metadata": {
    "colab": {
      "provenance": [],
      "collapsed_sections": [],
      "authorship_tag": "ABX9TyOqOAQA+Sybd0pLJrpEFY3/",
      "include_colab_link": true
    },
    "kernelspec": {
      "name": "python3",
      "display_name": "Python 3"
    },
    "language_info": {
      "name": "python"
    }
  },
  "cells": [
    {
      "cell_type": "markdown",
      "metadata": {
        "id": "view-in-github",
        "colab_type": "text"
      },
      "source": [
        "<a href=\"https://colab.research.google.com/github/kumarbirendra/ai-ml-analysis/blob/master/INFY.ipynb\" target=\"_parent\"><img src=\"https://colab.research.google.com/assets/colab-badge.svg\" alt=\"Open In Colab\"/></a>"
      ]
    },
    {
      "cell_type": "code",
      "execution_count": null,
      "metadata": {
        "id": "K9AzSNZ1PQNv"
      },
      "outputs": [],
      "source": [
        "# Import finance API and get historical stock data\n",
        "# Source from  https://github.com/dataquestio/project-walkthroughs/blob/master/stock/StockProject.ipynb\n",
        "!pip3 install yfinance\n",
        "import yfinance as yf\n",
        "import os\n",
        "import json\n",
        "import pandas as pd\n",
        "\n",
        "\n",
        "infy = yf.Ticker(\"INFY.NS\")\n",
        "infy_hist = infy.history(period=\"max\")\n",
        "\n",
        "infy_hist"
      ]
    },
    {
      "cell_type": "code",
      "source": [
        "infy_hist.head(5)"
      ],
      "metadata": {
        "id": "zAFgT5gSPpFL"
      },
      "execution_count": null,
      "outputs": []
    },
    {
      "cell_type": "code",
      "source": [
        "infy_hist.plot.line(y=\"Close\", use_index=True)"
      ],
      "metadata": {
        "id": "JZL8TkUKQYkT"
      },
      "execution_count": null,
      "outputs": []
    },
    {
      "cell_type": "code",
      "source": [
        "data = infy_hist[[\"Close\"]]\n",
        "data = data.rename(columns = {'Close':'Actual_Close'})"
      ],
      "metadata": {
        "id": "VXajocUMQlSC"
      },
      "execution_count": 6,
      "outputs": []
    },
    {
      "cell_type": "code",
      "source": [
        "data[\"Target\"] = infy_hist.rolling(2).apply(lambda x: x.iloc[1] > x.iloc[0])[\"Close\"]"
      ],
      "metadata": {
        "id": "yMDdUeszQsjK"
      },
      "execution_count": 8,
      "outputs": []
    },
    {
      "cell_type": "code",
      "source": [
        "data"
      ],
      "metadata": {
        "colab": {
          "base_uri": "https://localhost:8080/",
          "height": 455
        },
        "id": "9qSV6voaQ8lj",
        "outputId": "b978246a-0851-41c2-8f01-2bd3a3b68507"
      },
      "execution_count": 9,
      "outputs": [
        {
          "output_type": "execute_result",
          "data": {
            "text/plain": [
              "                           Actual_Close  Target\n",
              "Date                                           \n",
              "1996-01-01 00:00:00+05:30      0.538948     NaN\n",
              "1996-01-02 00:00:00+05:30      0.536768     0.0\n",
              "1996-01-03 00:00:00+05:30      0.540402     1.0\n",
              "1996-01-04 00:00:00+05:30      0.536834     0.0\n",
              "1996-01-05 00:00:00+05:30      0.530491     0.0\n",
              "...                                 ...     ...\n",
              "2022-10-17 00:00:00+05:30   1489.949951     1.0\n",
              "2022-10-18 00:00:00+05:30   1503.699951     1.0\n",
              "2022-10-19 00:00:00+05:30   1485.449951     0.0\n",
              "2022-10-20 00:00:00+05:30   1500.900024     1.0\n",
              "2022-10-21 00:00:00+05:30   1500.500000     0.0\n",
              "\n",
              "[6745 rows x 2 columns]"
            ],
            "text/html": [
              "\n",
              "  <div id=\"df-4b1f5785-33b5-4369-a6f7-d01786e826a2\">\n",
              "    <div class=\"colab-df-container\">\n",
              "      <div>\n",
              "<style scoped>\n",
              "    .dataframe tbody tr th:only-of-type {\n",
              "        vertical-align: middle;\n",
              "    }\n",
              "\n",
              "    .dataframe tbody tr th {\n",
              "        vertical-align: top;\n",
              "    }\n",
              "\n",
              "    .dataframe thead th {\n",
              "        text-align: right;\n",
              "    }\n",
              "</style>\n",
              "<table border=\"1\" class=\"dataframe\">\n",
              "  <thead>\n",
              "    <tr style=\"text-align: right;\">\n",
              "      <th></th>\n",
              "      <th>Actual_Close</th>\n",
              "      <th>Target</th>\n",
              "    </tr>\n",
              "    <tr>\n",
              "      <th>Date</th>\n",
              "      <th></th>\n",
              "      <th></th>\n",
              "    </tr>\n",
              "  </thead>\n",
              "  <tbody>\n",
              "    <tr>\n",
              "      <th>1996-01-01 00:00:00+05:30</th>\n",
              "      <td>0.538948</td>\n",
              "      <td>NaN</td>\n",
              "    </tr>\n",
              "    <tr>\n",
              "      <th>1996-01-02 00:00:00+05:30</th>\n",
              "      <td>0.536768</td>\n",
              "      <td>0.0</td>\n",
              "    </tr>\n",
              "    <tr>\n",
              "      <th>1996-01-03 00:00:00+05:30</th>\n",
              "      <td>0.540402</td>\n",
              "      <td>1.0</td>\n",
              "    </tr>\n",
              "    <tr>\n",
              "      <th>1996-01-04 00:00:00+05:30</th>\n",
              "      <td>0.536834</td>\n",
              "      <td>0.0</td>\n",
              "    </tr>\n",
              "    <tr>\n",
              "      <th>1996-01-05 00:00:00+05:30</th>\n",
              "      <td>0.530491</td>\n",
              "      <td>0.0</td>\n",
              "    </tr>\n",
              "    <tr>\n",
              "      <th>...</th>\n",
              "      <td>...</td>\n",
              "      <td>...</td>\n",
              "    </tr>\n",
              "    <tr>\n",
              "      <th>2022-10-17 00:00:00+05:30</th>\n",
              "      <td>1489.949951</td>\n",
              "      <td>1.0</td>\n",
              "    </tr>\n",
              "    <tr>\n",
              "      <th>2022-10-18 00:00:00+05:30</th>\n",
              "      <td>1503.699951</td>\n",
              "      <td>1.0</td>\n",
              "    </tr>\n",
              "    <tr>\n",
              "      <th>2022-10-19 00:00:00+05:30</th>\n",
              "      <td>1485.449951</td>\n",
              "      <td>0.0</td>\n",
              "    </tr>\n",
              "    <tr>\n",
              "      <th>2022-10-20 00:00:00+05:30</th>\n",
              "      <td>1500.900024</td>\n",
              "      <td>1.0</td>\n",
              "    </tr>\n",
              "    <tr>\n",
              "      <th>2022-10-21 00:00:00+05:30</th>\n",
              "      <td>1500.500000</td>\n",
              "      <td>0.0</td>\n",
              "    </tr>\n",
              "  </tbody>\n",
              "</table>\n",
              "<p>6745 rows × 2 columns</p>\n",
              "</div>\n",
              "      <button class=\"colab-df-convert\" onclick=\"convertToInteractive('df-4b1f5785-33b5-4369-a6f7-d01786e826a2')\"\n",
              "              title=\"Convert this dataframe to an interactive table.\"\n",
              "              style=\"display:none;\">\n",
              "        \n",
              "  <svg xmlns=\"http://www.w3.org/2000/svg\" height=\"24px\"viewBox=\"0 0 24 24\"\n",
              "       width=\"24px\">\n",
              "    <path d=\"M0 0h24v24H0V0z\" fill=\"none\"/>\n",
              "    <path d=\"M18.56 5.44l.94 2.06.94-2.06 2.06-.94-2.06-.94-.94-2.06-.94 2.06-2.06.94zm-11 1L8.5 8.5l.94-2.06 2.06-.94-2.06-.94L8.5 2.5l-.94 2.06-2.06.94zm10 10l.94 2.06.94-2.06 2.06-.94-2.06-.94-.94-2.06-.94 2.06-2.06.94z\"/><path d=\"M17.41 7.96l-1.37-1.37c-.4-.4-.92-.59-1.43-.59-.52 0-1.04.2-1.43.59L10.3 9.45l-7.72 7.72c-.78.78-.78 2.05 0 2.83L4 21.41c.39.39.9.59 1.41.59.51 0 1.02-.2 1.41-.59l7.78-7.78 2.81-2.81c.8-.78.8-2.07 0-2.86zM5.41 20L4 18.59l7.72-7.72 1.47 1.35L5.41 20z\"/>\n",
              "  </svg>\n",
              "      </button>\n",
              "      \n",
              "  <style>\n",
              "    .colab-df-container {\n",
              "      display:flex;\n",
              "      flex-wrap:wrap;\n",
              "      gap: 12px;\n",
              "    }\n",
              "\n",
              "    .colab-df-convert {\n",
              "      background-color: #E8F0FE;\n",
              "      border: none;\n",
              "      border-radius: 50%;\n",
              "      cursor: pointer;\n",
              "      display: none;\n",
              "      fill: #1967D2;\n",
              "      height: 32px;\n",
              "      padding: 0 0 0 0;\n",
              "      width: 32px;\n",
              "    }\n",
              "\n",
              "    .colab-df-convert:hover {\n",
              "      background-color: #E2EBFA;\n",
              "      box-shadow: 0px 1px 2px rgba(60, 64, 67, 0.3), 0px 1px 3px 1px rgba(60, 64, 67, 0.15);\n",
              "      fill: #174EA6;\n",
              "    }\n",
              "\n",
              "    [theme=dark] .colab-df-convert {\n",
              "      background-color: #3B4455;\n",
              "      fill: #D2E3FC;\n",
              "    }\n",
              "\n",
              "    [theme=dark] .colab-df-convert:hover {\n",
              "      background-color: #434B5C;\n",
              "      box-shadow: 0px 1px 3px 1px rgba(0, 0, 0, 0.15);\n",
              "      filter: drop-shadow(0px 1px 2px rgba(0, 0, 0, 0.3));\n",
              "      fill: #FFFFFF;\n",
              "    }\n",
              "  </style>\n",
              "\n",
              "      <script>\n",
              "        const buttonEl =\n",
              "          document.querySelector('#df-4b1f5785-33b5-4369-a6f7-d01786e826a2 button.colab-df-convert');\n",
              "        buttonEl.style.display =\n",
              "          google.colab.kernel.accessAllowed ? 'block' : 'none';\n",
              "\n",
              "        async function convertToInteractive(key) {\n",
              "          const element = document.querySelector('#df-4b1f5785-33b5-4369-a6f7-d01786e826a2');\n",
              "          const dataTable =\n",
              "            await google.colab.kernel.invokeFunction('convertToInteractive',\n",
              "                                                     [key], {});\n",
              "          if (!dataTable) return;\n",
              "\n",
              "          const docLinkHtml = 'Like what you see? Visit the ' +\n",
              "            '<a target=\"_blank\" href=https://colab.research.google.com/notebooks/data_table.ipynb>data table notebook</a>'\n",
              "            + ' to learn more about interactive tables.';\n",
              "          element.innerHTML = '';\n",
              "          dataTable['output_type'] = 'display_data';\n",
              "          await google.colab.output.renderOutput(dataTable, element);\n",
              "          const docLink = document.createElement('div');\n",
              "          docLink.innerHTML = docLinkHtml;\n",
              "          element.appendChild(docLink);\n",
              "        }\n",
              "      </script>\n",
              "    </div>\n",
              "  </div>\n",
              "  "
            ]
          },
          "metadata": {},
          "execution_count": 9
        }
      ]
    },
    {
      "cell_type": "code",
      "source": [
        "infy_prev = infy_hist.copy()\n",
        "infy_prev = infy_prev.shift(1)\n",
        "infy_prev"
      ],
      "metadata": {
        "id": "a6Pqcb-nQ9gK"
      },
      "execution_count": null,
      "outputs": []
    },
    {
      "cell_type": "code",
      "source": [
        "predictors = [\"Close\", \"Volume\", \"Open\", \"High\", \"Low\"]\n",
        "data = data.join(infy_prev[predictors]).iloc[1:]\n",
        "data"
      ],
      "metadata": {
        "colab": {
          "base_uri": "https://localhost:8080/",
          "height": 455
        },
        "id": "wPELwrkNRz9b",
        "outputId": "5382502d-5786-4dbc-8377-e7faecb0ef0e"
      },
      "execution_count": 11,
      "outputs": [
        {
          "output_type": "execute_result",
          "data": {
            "text/plain": [
              "                           Actual_Close  Target        Close      Volume  \\\n",
              "Date                                                                       \n",
              "1996-01-02 00:00:00+05:30      0.536768     0.0     0.538948    204800.0   \n",
              "1996-01-03 00:00:00+05:30      0.540402     1.0     0.536768    204800.0   \n",
              "1996-01-04 00:00:00+05:30      0.536834     0.0     0.540402    102400.0   \n",
              "1996-01-05 00:00:00+05:30      0.530491     0.0     0.536834    307200.0   \n",
              "1996-01-08 00:00:00+05:30      0.533795     1.0     0.530491     51200.0   \n",
              "...                                 ...     ...          ...         ...   \n",
              "2022-10-17 00:00:00+05:30   1489.949951     1.0  1474.250000  14990688.0   \n",
              "2022-10-18 00:00:00+05:30   1503.699951     1.0  1489.949951   4286396.0   \n",
              "2022-10-19 00:00:00+05:30   1485.449951     0.0  1503.699951   4692004.0   \n",
              "2022-10-20 00:00:00+05:30   1500.900024     1.0  1485.449951   3553171.0   \n",
              "2022-10-21 00:00:00+05:30   1500.500000     0.0  1500.900024   4583939.0   \n",
              "\n",
              "                                  Open         High          Low  \n",
              "Date                                                              \n",
              "1996-01-02 00:00:00+05:30     0.537758     0.538948     0.535116  \n",
              "1996-01-03 00:00:00+05:30     0.537759     0.540402     0.536768  \n",
              "1996-01-04 00:00:00+05:30     0.540402     0.540402     0.540402  \n",
              "1996-01-05 00:00:00+05:30     0.535116     0.537759     0.535116  \n",
              "1996-01-08 00:00:00+05:30     0.530491     0.530491     0.530491  \n",
              "...                                ...          ...          ...  \n",
              "2022-10-17 00:00:00+05:30  1485.000000  1494.000000  1467.250000  \n",
              "2022-10-18 00:00:00+05:30  1476.900024  1495.000000  1475.500000  \n",
              "2022-10-19 00:00:00+05:30  1510.000000  1510.949951  1497.250000  \n",
              "2022-10-20 00:00:00+05:30  1504.000000  1504.949951  1481.300049  \n",
              "2022-10-21 00:00:00+05:30  1475.000000  1504.000000  1474.199951  \n",
              "\n",
              "[6744 rows x 7 columns]"
            ],
            "text/html": [
              "\n",
              "  <div id=\"df-054e2c18-8299-419c-8494-647465812178\">\n",
              "    <div class=\"colab-df-container\">\n",
              "      <div>\n",
              "<style scoped>\n",
              "    .dataframe tbody tr th:only-of-type {\n",
              "        vertical-align: middle;\n",
              "    }\n",
              "\n",
              "    .dataframe tbody tr th {\n",
              "        vertical-align: top;\n",
              "    }\n",
              "\n",
              "    .dataframe thead th {\n",
              "        text-align: right;\n",
              "    }\n",
              "</style>\n",
              "<table border=\"1\" class=\"dataframe\">\n",
              "  <thead>\n",
              "    <tr style=\"text-align: right;\">\n",
              "      <th></th>\n",
              "      <th>Actual_Close</th>\n",
              "      <th>Target</th>\n",
              "      <th>Close</th>\n",
              "      <th>Volume</th>\n",
              "      <th>Open</th>\n",
              "      <th>High</th>\n",
              "      <th>Low</th>\n",
              "    </tr>\n",
              "    <tr>\n",
              "      <th>Date</th>\n",
              "      <th></th>\n",
              "      <th></th>\n",
              "      <th></th>\n",
              "      <th></th>\n",
              "      <th></th>\n",
              "      <th></th>\n",
              "      <th></th>\n",
              "    </tr>\n",
              "  </thead>\n",
              "  <tbody>\n",
              "    <tr>\n",
              "      <th>1996-01-02 00:00:00+05:30</th>\n",
              "      <td>0.536768</td>\n",
              "      <td>0.0</td>\n",
              "      <td>0.538948</td>\n",
              "      <td>204800.0</td>\n",
              "      <td>0.537758</td>\n",
              "      <td>0.538948</td>\n",
              "      <td>0.535116</td>\n",
              "    </tr>\n",
              "    <tr>\n",
              "      <th>1996-01-03 00:00:00+05:30</th>\n",
              "      <td>0.540402</td>\n",
              "      <td>1.0</td>\n",
              "      <td>0.536768</td>\n",
              "      <td>204800.0</td>\n",
              "      <td>0.537759</td>\n",
              "      <td>0.540402</td>\n",
              "      <td>0.536768</td>\n",
              "    </tr>\n",
              "    <tr>\n",
              "      <th>1996-01-04 00:00:00+05:30</th>\n",
              "      <td>0.536834</td>\n",
              "      <td>0.0</td>\n",
              "      <td>0.540402</td>\n",
              "      <td>102400.0</td>\n",
              "      <td>0.540402</td>\n",
              "      <td>0.540402</td>\n",
              "      <td>0.540402</td>\n",
              "    </tr>\n",
              "    <tr>\n",
              "      <th>1996-01-05 00:00:00+05:30</th>\n",
              "      <td>0.530491</td>\n",
              "      <td>0.0</td>\n",
              "      <td>0.536834</td>\n",
              "      <td>307200.0</td>\n",
              "      <td>0.535116</td>\n",
              "      <td>0.537759</td>\n",
              "      <td>0.535116</td>\n",
              "    </tr>\n",
              "    <tr>\n",
              "      <th>1996-01-08 00:00:00+05:30</th>\n",
              "      <td>0.533795</td>\n",
              "      <td>1.0</td>\n",
              "      <td>0.530491</td>\n",
              "      <td>51200.0</td>\n",
              "      <td>0.530491</td>\n",
              "      <td>0.530491</td>\n",
              "      <td>0.530491</td>\n",
              "    </tr>\n",
              "    <tr>\n",
              "      <th>...</th>\n",
              "      <td>...</td>\n",
              "      <td>...</td>\n",
              "      <td>...</td>\n",
              "      <td>...</td>\n",
              "      <td>...</td>\n",
              "      <td>...</td>\n",
              "      <td>...</td>\n",
              "    </tr>\n",
              "    <tr>\n",
              "      <th>2022-10-17 00:00:00+05:30</th>\n",
              "      <td>1489.949951</td>\n",
              "      <td>1.0</td>\n",
              "      <td>1474.250000</td>\n",
              "      <td>14990688.0</td>\n",
              "      <td>1485.000000</td>\n",
              "      <td>1494.000000</td>\n",
              "      <td>1467.250000</td>\n",
              "    </tr>\n",
              "    <tr>\n",
              "      <th>2022-10-18 00:00:00+05:30</th>\n",
              "      <td>1503.699951</td>\n",
              "      <td>1.0</td>\n",
              "      <td>1489.949951</td>\n",
              "      <td>4286396.0</td>\n",
              "      <td>1476.900024</td>\n",
              "      <td>1495.000000</td>\n",
              "      <td>1475.500000</td>\n",
              "    </tr>\n",
              "    <tr>\n",
              "      <th>2022-10-19 00:00:00+05:30</th>\n",
              "      <td>1485.449951</td>\n",
              "      <td>0.0</td>\n",
              "      <td>1503.699951</td>\n",
              "      <td>4692004.0</td>\n",
              "      <td>1510.000000</td>\n",
              "      <td>1510.949951</td>\n",
              "      <td>1497.250000</td>\n",
              "    </tr>\n",
              "    <tr>\n",
              "      <th>2022-10-20 00:00:00+05:30</th>\n",
              "      <td>1500.900024</td>\n",
              "      <td>1.0</td>\n",
              "      <td>1485.449951</td>\n",
              "      <td>3553171.0</td>\n",
              "      <td>1504.000000</td>\n",
              "      <td>1504.949951</td>\n",
              "      <td>1481.300049</td>\n",
              "    </tr>\n",
              "    <tr>\n",
              "      <th>2022-10-21 00:00:00+05:30</th>\n",
              "      <td>1500.500000</td>\n",
              "      <td>0.0</td>\n",
              "      <td>1500.900024</td>\n",
              "      <td>4583939.0</td>\n",
              "      <td>1475.000000</td>\n",
              "      <td>1504.000000</td>\n",
              "      <td>1474.199951</td>\n",
              "    </tr>\n",
              "  </tbody>\n",
              "</table>\n",
              "<p>6744 rows × 7 columns</p>\n",
              "</div>\n",
              "      <button class=\"colab-df-convert\" onclick=\"convertToInteractive('df-054e2c18-8299-419c-8494-647465812178')\"\n",
              "              title=\"Convert this dataframe to an interactive table.\"\n",
              "              style=\"display:none;\">\n",
              "        \n",
              "  <svg xmlns=\"http://www.w3.org/2000/svg\" height=\"24px\"viewBox=\"0 0 24 24\"\n",
              "       width=\"24px\">\n",
              "    <path d=\"M0 0h24v24H0V0z\" fill=\"none\"/>\n",
              "    <path d=\"M18.56 5.44l.94 2.06.94-2.06 2.06-.94-2.06-.94-.94-2.06-.94 2.06-2.06.94zm-11 1L8.5 8.5l.94-2.06 2.06-.94-2.06-.94L8.5 2.5l-.94 2.06-2.06.94zm10 10l.94 2.06.94-2.06 2.06-.94-2.06-.94-.94-2.06-.94 2.06-2.06.94z\"/><path d=\"M17.41 7.96l-1.37-1.37c-.4-.4-.92-.59-1.43-.59-.52 0-1.04.2-1.43.59L10.3 9.45l-7.72 7.72c-.78.78-.78 2.05 0 2.83L4 21.41c.39.39.9.59 1.41.59.51 0 1.02-.2 1.41-.59l7.78-7.78 2.81-2.81c.8-.78.8-2.07 0-2.86zM5.41 20L4 18.59l7.72-7.72 1.47 1.35L5.41 20z\"/>\n",
              "  </svg>\n",
              "      </button>\n",
              "      \n",
              "  <style>\n",
              "    .colab-df-container {\n",
              "      display:flex;\n",
              "      flex-wrap:wrap;\n",
              "      gap: 12px;\n",
              "    }\n",
              "\n",
              "    .colab-df-convert {\n",
              "      background-color: #E8F0FE;\n",
              "      border: none;\n",
              "      border-radius: 50%;\n",
              "      cursor: pointer;\n",
              "      display: none;\n",
              "      fill: #1967D2;\n",
              "      height: 32px;\n",
              "      padding: 0 0 0 0;\n",
              "      width: 32px;\n",
              "    }\n",
              "\n",
              "    .colab-df-convert:hover {\n",
              "      background-color: #E2EBFA;\n",
              "      box-shadow: 0px 1px 2px rgba(60, 64, 67, 0.3), 0px 1px 3px 1px rgba(60, 64, 67, 0.15);\n",
              "      fill: #174EA6;\n",
              "    }\n",
              "\n",
              "    [theme=dark] .colab-df-convert {\n",
              "      background-color: #3B4455;\n",
              "      fill: #D2E3FC;\n",
              "    }\n",
              "\n",
              "    [theme=dark] .colab-df-convert:hover {\n",
              "      background-color: #434B5C;\n",
              "      box-shadow: 0px 1px 3px 1px rgba(0, 0, 0, 0.15);\n",
              "      filter: drop-shadow(0px 1px 2px rgba(0, 0, 0, 0.3));\n",
              "      fill: #FFFFFF;\n",
              "    }\n",
              "  </style>\n",
              "\n",
              "      <script>\n",
              "        const buttonEl =\n",
              "          document.querySelector('#df-054e2c18-8299-419c-8494-647465812178 button.colab-df-convert');\n",
              "        buttonEl.style.display =\n",
              "          google.colab.kernel.accessAllowed ? 'block' : 'none';\n",
              "\n",
              "        async function convertToInteractive(key) {\n",
              "          const element = document.querySelector('#df-054e2c18-8299-419c-8494-647465812178');\n",
              "          const dataTable =\n",
              "            await google.colab.kernel.invokeFunction('convertToInteractive',\n",
              "                                                     [key], {});\n",
              "          if (!dataTable) return;\n",
              "\n",
              "          const docLinkHtml = 'Like what you see? Visit the ' +\n",
              "            '<a target=\"_blank\" href=https://colab.research.google.com/notebooks/data_table.ipynb>data table notebook</a>'\n",
              "            + ' to learn more about interactive tables.';\n",
              "          element.innerHTML = '';\n",
              "          dataTable['output_type'] = 'display_data';\n",
              "          await google.colab.output.renderOutput(dataTable, element);\n",
              "          const docLink = document.createElement('div');\n",
              "          docLink.innerHTML = docLinkHtml;\n",
              "          element.appendChild(docLink);\n",
              "        }\n",
              "      </script>\n",
              "    </div>\n",
              "  </div>\n",
              "  "
            ]
          },
          "metadata": {},
          "execution_count": 11
        }
      ]
    },
    {
      "cell_type": "code",
      "source": [
        "from sklearn.ensemble import RandomForestClassifier\n",
        "import numpy as np\n",
        "\n",
        "# Create a random forest classification model.  Set min_samples_split high to ensure we don't overfit.\n",
        "model = RandomForestClassifier(n_estimators=100, min_samples_split=200, random_state=1)\n",
        "\n",
        "# Create a train and test set\n",
        "train = data.iloc[:-100]\n",
        "test = data.iloc[-100:]\n",
        "\n",
        "model.fit(train[predictors], train[\"Target\"])"
      ],
      "metadata": {
        "colab": {
          "base_uri": "https://localhost:8080/"
        },
        "id": "y5HVCQyTSP64",
        "outputId": "29095287-4c6c-43e7-e9d6-a353ceb6207e"
      },
      "execution_count": 12,
      "outputs": [
        {
          "output_type": "execute_result",
          "data": {
            "text/plain": [
              "RandomForestClassifier(min_samples_split=200, random_state=1)"
            ]
          },
          "metadata": {},
          "execution_count": 12
        }
      ]
    },
    {
      "cell_type": "code",
      "source": [
        "from sklearn.metrics import precision_score\n",
        "\n",
        "\n",
        "preds = model.predict(test[predictors])\n",
        "preds = pd.Series(preds, index=test.index)\n",
        "precision_score(test[\"Target\"], preds)"
      ],
      "metadata": {
        "colab": {
          "base_uri": "https://localhost:8080/"
        },
        "id": "yJudwyPkSYfQ",
        "outputId": "8f1ba349-0e7b-43b6-c0e5-bfd5327278f9"
      },
      "execution_count": 13,
      "outputs": [
        {
          "output_type": "execute_result",
          "data": {
            "text/plain": [
              "0.5306122448979592"
            ]
          },
          "metadata": {},
          "execution_count": 13
        }
      ]
    },
    {
      "cell_type": "code",
      "source": [
        "combined = pd.concat({\"Target\": test[\"Target\"],\"Predictions\": preds}, axis=1)\n",
        "combined.plot()"
      ],
      "metadata": {
        "colab": {
          "base_uri": "https://localhost:8080/",
          "height": 294
        },
        "id": "TOD5AcevSfi6",
        "outputId": "90fef986-ebbc-4169-e9a9-432d3e7744b1"
      },
      "execution_count": 14,
      "outputs": [
        {
          "output_type": "execute_result",
          "data": {
            "text/plain": [
              "<matplotlib.axes._subplots.AxesSubplot at 0x7f04e6339c90>"
            ]
          },
          "metadata": {},
          "execution_count": 14
        },
        {
          "output_type": "display_data",
          "data": {
            "text/plain": [
              "<Figure size 432x288 with 1 Axes>"
            ],
            "image/png": "[encoded data removed]"
          },
          "metadata": {
            "needs_background": "light"
          }
        }
      ]
    },
    {
      "cell_type": "code",
      "source": [
        "def backtest(data, model, predictors, start=1000, step=750):\n",
        "    predictions = []\n",
        "    # Loop over the dataset in increments\n",
        "    for i in range(start, data.shape[0], step):\n",
        "        # Split into train and test sets\n",
        "        train = data.iloc[0:i].copy()\n",
        "        test = data.iloc[i:(i+step)].copy()\n",
        "        \n",
        "        # Fit the random forest model\n",
        "        model.fit(train[predictors], train[\"Target\"])\n",
        "        \n",
        "        # Make predictions\n",
        "        preds = model.predict_proba(test[predictors])[:,1]\n",
        "        preds = pd.Series(preds, index=test.index)\n",
        "        preds[preds > .6] = 1\n",
        "        preds[preds<=.6] = 0\n",
        "        \n",
        "        # Combine predictions and test values\n",
        "        combined = pd.concat({\"Target\": test[\"Target\"],\"Predictions\": preds}, axis=1)\n",
        "        \n",
        "        predictions.append(combined)\n",
        "    \n",
        "    return pd.concat(predictions)"
      ],
      "metadata": {
        "id": "GUU05TPJSmI6"
      },
      "execution_count": 15,
      "outputs": []
    },
    {
      "cell_type": "code",
      "source": [
        "predictions = backtest(data, model, predictors)"
      ],
      "metadata": {
        "id": "XG3cdoViSo06"
      },
      "execution_count": 16,
      "outputs": []
    },
    {
      "cell_type": "code",
      "source": [
        "predictions[\"Predictions\"].value_counts()"
      ],
      "metadata": {
        "colab": {
          "base_uri": "https://localhost:8080/"
        },
        "id": "RmMYtVfQSyBh",
        "outputId": "9e18301f-ba72-49ed-d08a-a398278825e2"
      },
      "execution_count": 17,
      "outputs": [
        {
          "output_type": "execute_result",
          "data": {
            "text/plain": [
              "0.0    5508\n",
              "1.0     236\n",
              "Name: Predictions, dtype: int64"
            ]
          },
          "metadata": {},
          "execution_count": 17
        }
      ]
    },
    {
      "cell_type": "code",
      "source": [
        "precision_score(predictions[\"Target\"], predictions[\"Predictions\"])"
      ],
      "metadata": {
        "colab": {
          "base_uri": "https://localhost:8080/"
        },
        "id": "vQt5xjOYS0aZ",
        "outputId": "fe2fdc13-0867-4eb4-a634-4ef166537e0c"
      },
      "execution_count": 18,
      "outputs": [
        {
          "output_type": "execute_result",
          "data": {
            "text/plain": [
              "0.5508474576271186"
            ]
          },
          "metadata": {},
          "execution_count": 18
        }
      ]
    },
    {
      "cell_type": "code",
      "source": [
        "weekly_mean = data.rolling(7).mean()\n",
        "quarterly_mean = data.rolling(90).mean()\n",
        "annual_mean = data.rolling(365).mean()\n",
        "weekly_trend = data.shift(1).rolling(7).mean()[\"Target\"]"
      ],
      "metadata": {
        "id": "DYOEhH6XS7ni"
      },
      "execution_count": 19,
      "outputs": []
    },
    {
      "cell_type": "code",
      "source": [
        "data[\"weekly_mean\"] = weekly_mean[\"Close\"] / data[\"Close\"]\n",
        "data[\"quarterly_mean\"] = quarterly_mean[\"Close\"] / data[\"Close\"]\n",
        "data[\"annual_mean\"] = annual_mean[\"Close\"] / data[\"Close\"]\n",
        "\n",
        "data[\"annual_weekly_mean\"] = data[\"annual_mean\"] / data[\"weekly_mean\"]\n",
        "data[\"annual_quarterly_mean\"] = data[\"annual_mean\"] / data[\"quarterly_mean\"]\n",
        "data[\"weekly_trend\"] = weekly_trend\n",
        "\n",
        "data[\"open_close_ratio\"] = data[\"Open\"] / data[\"Close\"]\n",
        "data[\"high_close_ratio\"] = data[\"High\"] / data[\"Close\"]\n",
        "data[\"low_close_ratio\"] = data[\"Low\"] / data[\"Close\"]"
      ],
      "metadata": {
        "id": "GrAtcqivS91R"
      },
      "execution_count": 20,
      "outputs": []
    },
    {
      "cell_type": "code",
      "source": [
        "full_predictors = predictors + [\"weekly_mean\", \"quarterly_mean\", \"annual_mean\", \"annual_weekly_mean\", \"annual_quarterly_mean\", \"open_close_ratio\", \"high_close_ratio\", \"low_close_ratio\", \"weekly_trend\"]\n",
        "predictions = backtest(data.iloc[365:], model, full_predictors)"
      ],
      "metadata": {
        "id": "O-tB3mSBTBgK"
      },
      "execution_count": 21,
      "outputs": []
    },
    {
      "cell_type": "code",
      "source": [
        "precision_score(predictions[\"Target\"], predictions[\"Predictions\"])"
      ],
      "metadata": {
        "colab": {
          "base_uri": "https://localhost:8080/"
        },
        "id": "eIVtXThTTJri",
        "outputId": "0b43177e-3973-4e3b-8eda-1f930f9c6002"
      },
      "execution_count": 22,
      "outputs": [
        {
          "output_type": "execute_result",
          "data": {
            "text/plain": [
              "0.4870967741935484"
            ]
          },
          "metadata": {},
          "execution_count": 22
        }
      ]
    },
    {
      "cell_type": "code",
      "source": [
        "predictions[\"Predictions\"].value_counts()"
      ],
      "metadata": {
        "colab": {
          "base_uri": "https://localhost:8080/"
        },
        "id": "4wH6LrH1TORb",
        "outputId": "edca8908-69e8-4fcd-a131-7d4619ab91b1"
      },
      "execution_count": 23,
      "outputs": [
        {
          "output_type": "execute_result",
          "data": {
            "text/plain": [
              "0.0    5069\n",
              "1.0     310\n",
              "Name: Predictions, dtype: int64"
            ]
          },
          "metadata": {},
          "execution_count": 23
        }
      ]
    },
    {
      "cell_type": "code",
      "source": [
        "predictions.iloc[-100:].plot()"
      ],
      "metadata": {
        "colab": {
          "base_uri": "https://localhost:8080/",
          "height": 294
        },
        "id": "xIB3cs7KTQWq",
        "outputId": "b3ed2d95-d1a3-4180-fb78-8fb9406620e1"
      },
      "execution_count": 24,
      "outputs": [
        {
          "output_type": "execute_result",
          "data": {
            "text/plain": [
              "<matplotlib.axes._subplots.AxesSubplot at 0x7f04e6213f90>"
            ]
          },
          "metadata": {},
          "execution_count": 24
        },
        {
          "output_type": "display_data",
          "data": {
            "text/plain": [
              "<Figure size 432x288 with 1 Axes>"
            ],
            "image/png": "[encoded data removed]"
          },
          "metadata": {
            "needs_background": "light"
          }
        }
      ]
    }
  ]
}