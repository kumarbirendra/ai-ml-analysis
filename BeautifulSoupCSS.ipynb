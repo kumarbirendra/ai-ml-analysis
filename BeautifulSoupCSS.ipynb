{
  "nbformat": 4,
  "nbformat_minor": 0,
  "metadata": {
    "colab": {
      "name": "BeautifulSoupCSS.ipynb",
      "provenance": [],
      "authorship_tag": "ABX9TyMxXWgC8H68Pm5RCZCAq1d7",
      "include_colab_link": true
    },
    "kernelspec": {
      "name": "python3",
      "display_name": "Python 3"
    }
  },
  "cells": [
    {
      "cell_type": "markdown",
      "metadata": {
        "id": "view-in-github",
        "colab_type": "text"
      },
      "source": [
        "<a href=\"https://colab.research.google.com/github/kumarbirendra/ai-ml-analysis/blob/master/BeautifulSoupCSS.ipynb\" target=\"_parent\"><img src=\"https://colab.research.google.com/assets/colab-badge.svg\" alt=\"Open In Colab\"/></a>"
      ]
    },
    {
      "cell_type": "code",
      "metadata": {
        "id": "VHvMLz7buOP0",
        "colab_type": "code",
        "colab": {
          "base_uri": "https://localhost:8080/",
          "height": 717
        },
        "outputId": "9e0db8cd-92db-4728-bb12-97e83dcb05d4"
      },
      "source": [
        "from bs4 import BeautifulSoup\n",
        "from urllib.request import urlopen\n",
        "\n",
        "# if has Chinese, apply decode()\n",
        "html = urlopen(\"https://morvanzhou.github.io/static/scraping/list.html\").read().decode('utf-8')\n",
        "print(html)"
      ],
      "execution_count": 1,
      "outputs": [
        {
          "output_type": "stream",
          "text": [
            "<!DOCTYPE html>\n",
            "<html lang=\"cn\">\n",
            "<head>\n",
            "\t<meta charset=\"UTF-8\">\n",
            "\t<title>爬虫练习 列表 class | 莫烦 Python</title>\n",
            "\t<style>\n",
            "\t.jan {\n",
            "\t\tbackground-color: yellow;\n",
            "\t}\n",
            "\t.feb {\n",
            "\t\tfont-size: 25px;\n",
            "\t}\n",
            "\t.month {\n",
            "\t\tcolor: red;\n",
            "\t}\n",
            "\t</style>\n",
            "</head>\n",
            "\n",
            "<body>\n",
            "\n",
            "<h1>列表 爬虫练习</h1>\n",
            "\n",
            "<p>这是一个在 <a href=\"https://morvanzhou.github.io/\" >莫烦 Python</a> 的 <a href=\"https://morvanzhou.github.io/tutorials/data-manipulation/scraping/\" >爬虫教程</a>\n",
            "\t里无敌简单的网页, 所有的 code 让你一目了然, 清晰无比.</p>\n",
            "\n",
            "<ul>\n",
            "\t<li class=\"month\">一月</li>\n",
            "\t<ul class=\"jan\">\n",
            "\t\t<li>一月一号</li>\n",
            "\t\t<li>一月二号</li>\n",
            "\t\t<li>一月三号</li>\n",
            "\t</ul>\n",
            "\t<li class=\"feb month\">二月</li>\n",
            "\t<li class=\"month\">三月</li>\n",
            "\t<li class=\"month\">四月</li>\n",
            "\t<li class=\"month\">五月</li>\n",
            "</ul>\n",
            "\n",
            "</body>\n",
            "</html>\n"
          ],
          "name": "stdout"
        }
      ]
    },
    {
      "cell_type": "code",
      "metadata": {
        "id": "3_H83f_ruVDV",
        "colab_type": "code",
        "colab": {
          "base_uri": "https://localhost:8080/",
          "height": 102
        },
        "outputId": "90008794-1d9e-4b8b-f723-fc136ac45277"
      },
      "source": [
        "soup = BeautifulSoup(html, features='lxml')\n",
        "\n",
        "# use class to narrow search\n",
        "month = soup.find_all('li', {\"class\": \"month\"})\n",
        "for m in month:\n",
        "    print(m.get_text())"
      ],
      "execution_count": 2,
      "outputs": [
        {
          "output_type": "stream",
          "text": [
            "一月\n",
            "二月\n",
            "三月\n",
            "四月\n",
            "五月\n"
          ],
          "name": "stdout"
        }
      ]
    },
    {
      "cell_type": "code",
      "metadata": {
        "id": "3usSO7GPuli_",
        "colab_type": "code",
        "colab": {
          "base_uri": "https://localhost:8080/",
          "height": 68
        },
        "outputId": "f3f15731-8f31-4523-e2f0-a6a87360177d"
      },
      "source": [
        "jan = soup.find('ul', {\"class\": 'jan'})\n",
        "d_jan = jan.find_all('li')              # use jan as a parent\n",
        "for d in d_jan:\n",
        "    print(d.get_text())"
      ],
      "execution_count": 3,
      "outputs": [
        {
          "output_type": "stream",
          "text": [
            "一月一号\n",
            "一月二号\n",
            "一月三号\n"
          ],
          "name": "stdout"
        }
      ]
    },
    {
      "cell_type": "code",
      "metadata": {
        "id": "sFx6DdJzvAxp",
        "colab_type": "code",
        "colab": {}
      },
      "source": [
        ""
      ],
      "execution_count": null,
      "outputs": []
    }
  ]
}