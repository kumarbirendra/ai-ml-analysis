{
  "nbformat": 4,
  "nbformat_minor": 0,
  "metadata": {
    "colab": {
      "name": "TZARO.ipynb",
      "provenance": [],
      "authorship_tag": "ABX9TyM5cz5nl4h85QRRxjqRnxim",
      "include_colab_link": true
    },
    "kernelspec": {
      "name": "python3",
      "display_name": "Python 3"
    }
  },
  "cells": [
    {
      "cell_type": "markdown",
      "metadata": {
        "id": "view-in-github",
        "colab_type": "text"
      },
      "source": [
        "<a href=\"https://colab.research.google.com/github/kumarbirendra/ai-ml-analysis/blob/master/TZARO.ipynb\" target=\"_parent\"><img src=\"https://colab.research.google.com/assets/colab-badge.svg\" alt=\"Open In Colab\"/></a>"
      ]
    },
    {
      "cell_type": "code",
      "metadata": {
        "id": "VliShdvsApoQ",
        "colab_type": "code",
        "colab": {
          "base_uri": "https://localhost:8080/",
          "height": 51
        },
        "outputId": "a5180b41-33ef-4f06-e8fd-98d6b167cbf4"
      },
      "source": [
        "import requests\n",
        "import webbrowser\n",
        "import re\n",
        "from bs4 import BeautifulSoup\n",
        "param = {}\n",
        "headers = {'User-Agent': 'Mozilla/5.0 (Windows NT 10.0; Win64; x64) AppleWebKit/537.36 (KHTML, like Gecko) Chrome/84.0.4147.89 Safari/537.36','Accept-Encoding': 'gzip, deflate', 'Accept': '*/*', 'Connection': 'keep-alive'}\n",
        "r = requests.get('https://tzaro.com/cart/view-cart', params=param,headers=headers)\n",
        "print(r.url)\n",
        "webbrowser.open(r.url)"
      ],
      "execution_count": 20,
      "outputs": [
        {
          "output_type": "stream",
          "text": [
            "https://tzaro.com/cart/view-cart\n"
          ],
          "name": "stdout"
        },
        {
          "output_type": "execute_result",
          "data": {
            "text/plain": [
              "False"
            ]
          },
          "metadata": {
            "tags": []
          },
          "execution_count": 20
        }
      ]
    },
    {
      "cell_type": "code",
      "metadata": {
        "id": "PaCZaEZJPdC1",
        "colab_type": "code",
        "colab": {
          "base_uri": "https://localhost:8080/",
          "height": 34
        },
        "outputId": "9c34e50b-908c-4a53-84c6-e8ff622fe53c"
      },
      "source": [
        "\n",
        "session = requests.Session()\n",
        "payload = {'username': 'birendrakumar@yahoo.com','password':'pp12345'}\n",
        "\n",
        "r = session.post('https://tzaro.com/site/login', data=payload,headers=headers)\n",
        "#print(r.cookies.get_dict())\n",
        "r = session.get(\"https://tzaro.com/site/login\")\n",
        "#print(r.text)\n",
        "soup = BeautifulSoup(r.text, 'lxml')\n",
        "data = soup.h1\n",
        "str_cells = str(data)\n",
        "clean = re.compile('<.*?>')\n",
        "clean_data = (re.sub(clean, '',str_cells))\n",
        "if(clean_data.find(\"TZARO\") >=0):\n",
        "  print(clean_data)\n"
      ],
      "execution_count": 30,
      "outputs": [
        {
          "output_type": "stream",
          "text": [
            "Welcome to TZARO\n"
          ],
          "name": "stdout"
        }
      ]
    },
    {
      "cell_type": "code",
      "metadata": {
        "id": "llsrVMWjCNMz",
        "colab_type": "code",
        "colab": {}
      },
      "source": [
        "#data  = {'username': 'birendrakumar@yahoo.com','password':'pp12345'}\n",
        "#r = requests.post('https://tzaro.com/site/login', data=data )\n",
        "#print(r.text)"
      ],
      "execution_count": null,
      "outputs": []
    },
    {
      "cell_type": "code",
      "metadata": {
        "id": "AVXF3k39Da9z",
        "colab_type": "code",
        "colab": {
          "base_uri": "https://localhost:8080/",
          "height": 51
        },
        "outputId": "d53b98bc-3475-4668-ca56-595255e09e65"
      },
      "source": [
        "#data  = {'username': 'birendrakumar@yahoo.com','password':'pp12345'}\n",
        "#{'User-Agent': 'python-requests/2.22.0', 'Accept-Encoding': 'gzip, deflate', 'Accept': '*/*', 'Connection': 'keep-alive'}\n",
        "#headers = {'User-Agent': 'Mozilla/5.0 (Windows NT 10.0; Win64; x64) AppleWebKit/537.36 (KHTML, like Gecko) Chrome/84.0.4147.89 Safari/537.36','Accept-Encoding': 'gzip, deflate', 'Accept': '*/*', 'Connection': 'keep-alive'}\n",
        "r = requests.get('http://tzaro.com/cart/view-cart',headers=headers)\n",
        "\n",
        "#print(r.text)\n",
        "soup = BeautifulSoup(r.text, 'lxml')\n",
        "#data = soup.text\n",
        "#print(soup)\n",
        "pp_result = soup.findAll('script') \n",
        "for sc in pp_result:\n",
        "  if (str(sc).find(\"pointspay\") >=0):\n",
        "    #print(str(sc))\n",
        "    print(\"PointsPay Supported\")"
      ],
      "execution_count": 55,
      "outputs": [
        {
          "output_type": "stream",
          "text": [
            "<script src=\"https://secure.pointspay.com/checkout/extjs/ppc-jsloader-min.js\"></script>\n",
            "PointsPay Supported\n"
          ],
          "name": "stdout"
        }
      ]
    },
    {
      "cell_type": "code",
      "metadata": {
        "id": "GUee53SQC6Cz",
        "colab_type": "code",
        "colab": {
          "base_uri": "https://localhost:8080/",
          "height": 51
        },
        "outputId": "592e5981-5e31-4001-c7ef-349e02173893"
      },
      "source": [
        "r = requests.get('https://tzaro.com/cart/view-cart',headers=headers)\n",
        "#print(r.text)\n",
        "soup = BeautifulSoup(r.text, 'lxml')\n",
        "#data = soup.text\n",
        "#print(soup)\n",
        "pp_result = soup.findAll('script') \n",
        "for sc in pp_result:\n",
        "  if (str(sc).find(\"pointspay\") >=0):\n",
        "    #print(str(sc))\n",
        "    print(\"PointsPay Supported\")\n"
      ],
      "execution_count": 56,
      "outputs": [
        {
          "output_type": "stream",
          "text": [
            "<script src=\"https://secure.pointspay.com/checkout/extjs/ppc-jsloader-min.js\"></script>\n",
            "PointsPay Supported\n"
          ],
          "name": "stdout"
        }
      ]
    },
    {
      "cell_type": "code",
      "metadata": {
        "id": "BuYNEoe7PcNp",
        "colab_type": "code",
        "colab": {}
      },
      "source": [
        ""
      ],
      "execution_count": null,
      "outputs": []
    },
    {
      "cell_type": "code",
      "metadata": {
        "id": "B1FAci1KFFbp",
        "colab_type": "code",
        "colab": {}
      },
      "source": [
        ""
      ],
      "execution_count": null,
      "outputs": []
    }
  ]
}