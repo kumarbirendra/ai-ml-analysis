{
  "nbformat": 4,
  "nbformat_minor": 0,
  "metadata": {
    "colab": {
      "name": "PointsPayMerchant.ipynb",
      "provenance": [],
      "collapsed_sections": [],
      "authorship_tag": "ABX9TyMzPTRUCN83BdVlcWYOC+TG",
      "include_colab_link": true
    },
    "kernelspec": {
      "name": "python3",
      "display_name": "Python 3"
    }
  },
  "cells": [
    {
      "cell_type": "markdown",
      "metadata": {
        "id": "view-in-github",
        "colab_type": "text"
      },
      "source": [
        "<a href=\"https://colab.research.google.com/github/kumarbirendra/ai-ml-analysis/blob/master/PointsPayMerchant.ipynb\" target=\"_parent\"><img src=\"https://colab.research.google.com/assets/colab-badge.svg\" alt=\"Open In Colab\"/></a>"
      ]
    },
    {
      "cell_type": "code",
      "metadata": {
        "id": "q5HV5sfwRzR8",
        "colab_type": "code",
        "colab": {
          "base_uri": "https://localhost:8080/",
          "height": 71
        },
        "outputId": "1fad8ee2-f1c0-4ba3-8243-0b63983ed167"
      },
      "source": [
        "import pandas as pd\n",
        "import numpy as np\n",
        "import matplotlib.pyplot as plt\n",
        "import seaborn as sns\n",
        "import re\n",
        "from urllib.request import Request,urlopen\n",
        "from bs4 import BeautifulSoup\n",
        "%matplotlib inline"
      ],
      "execution_count": 1,
      "outputs": [
        {
          "output_type": "stream",
          "text": [
            "/usr/local/lib/python3.6/dist-packages/statsmodels/tools/_testing.py:19: FutureWarning: pandas.util.testing is deprecated. Use the functions in the public API at pandas.testing instead.\n",
            "  import pandas.util.testing as tm\n"
          ],
          "name": "stderr"
        }
      ]
    },
    {
      "cell_type": "code",
      "metadata": {
        "id": "-I1kk2QFR4K3",
        "colab_type": "code",
        "colab": {}
      },
      "source": [
        ""
      ],
      "execution_count": 2,
      "outputs": []
    },
    {
      "cell_type": "code",
      "metadata": {
        "id": "GrI8IJvfBQSS",
        "colab_type": "code",
        "colab": {}
      },
      "source": [
        "all_pointspay_merchant_list = []\n",
        "all_pointspay_merchant_list.append(\"https://www.moorni.com/checkout\")\n",
        "all_pointspay_merchant_list.append(\"https://www.cobone.com/checkout/payment\")"
      ],
      "execution_count": 2,
      "outputs": []
    },
    {
      "cell_type": "code",
      "metadata": {
        "id": "jokQIqKq-Idr",
        "colab_type": "code",
        "colab": {}
      },
      "source": [
        "def check_pp_cobone(soup):\n",
        "  options = soup.find_all(\"span\")\n",
        "  textdata = str(options)\n",
        "  if(textdata.find(\"pointspay\") >=0):\n",
        "      print(\"PointsPay Supported Website\")"
      ],
      "execution_count": 3,
      "outputs": []
    },
    {
      "cell_type": "code",
      "metadata": {
        "id": "5nyYYIna-Ldq",
        "colab_type": "code",
        "colab": {}
      },
      "source": [
        "def check_pp_moorni(soup):\n",
        "  payment_options = soup.find_all(\"div\", {\"class\": \"checkbox\"})\n",
        "  all_payment_options = []\n",
        "  for option in payment_options:\n",
        "    option_cells= option.find_all('label')\n",
        "    str_cells = str(option_cells)\n",
        "    cleanp2 = (re.sub(clean, '',str_cells))\n",
        "    if(cleanp2.find(\"PointsPay\") >=0):\n",
        "      print(\"PointsPay Supported Website\")\n",
        "   "
      ],
      "execution_count": 4,
      "outputs": []
    },
    {
      "cell_type": "code",
      "metadata": {
        "id": "wgtf_DX_-rha",
        "colab_type": "code",
        "colab": {}
      },
      "source": [
        ""
      ],
      "execution_count": null,
      "outputs": []
    },
    {
      "cell_type": "code",
      "metadata": {
        "id": "YCUbt6MBR-Pa",
        "colab_type": "code",
        "colab": {
          "base_uri": "https://localhost:8080/",
          "height": 119
        },
        "outputId": "9941d907-d7f6-46cf-9cc8-3b5c5b5604d9"
      },
      "source": [
        "for pointspay_merchant_url in all_pointspay_merchant_list:\n",
        "  print(pointspay_merchant_url)\n",
        "  req = Request(pointspay_merchant_url, headers={'User-Agent': 'Mozilla/5.0'})\n",
        "  html = urlopen(req)\n",
        "  soup = BeautifulSoup(html, 'lxml')\n",
        "\n",
        "  #get title\n",
        "  title = soup.title\n",
        "  str_cells = str(title)\n",
        "  clean = re.compile('<.*?>')\n",
        "  title = (re.sub(clean, '',str_cells))\n",
        "  print(title)\n",
        "  if(title.find(\"Cobone\") >=0):\n",
        "    check_pp_cobone(soup)\n",
        "  elif(title.find(\"Moorni\") >=0):\n",
        "    check_pp_moorni(soup)\n"
      ],
      "execution_count": 5,
      "outputs": [
        {
          "output_type": "stream",
          "text": [
            "https://www.moorni.com/checkout\n",
            "CheckOut Page - Moorni.com\n",
            "PointsPay Supported Website\n",
            "https://www.cobone.com/checkout/payment\n",
            "Dubai Deals, Coupons &amp; Special Offers | Cobone\n",
            "PointsPay Supported Website\n"
          ],
          "name": "stdout"
        }
      ]
    },
    {
      "cell_type": "code",
      "metadata": {
        "id": "FtDv8b1LT1Vx",
        "colab_type": "code",
        "colab": {}
      },
      "source": [
        "\n",
        " "
      ],
      "execution_count": 7,
      "outputs": []
    },
    {
      "cell_type": "code",
      "metadata": {
        "id": "Vra42Jcw-DxL",
        "colab_type": "code",
        "colab": {}
      },
      "source": [
        ""
      ],
      "execution_count": null,
      "outputs": []
    }
  ]
}