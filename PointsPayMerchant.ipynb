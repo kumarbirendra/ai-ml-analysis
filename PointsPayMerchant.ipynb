{
  "nbformat": 4,
  "nbformat_minor": 0,
  "metadata": {
    "colab": {
      "name": "PointsPayMerchant.ipynb",
      "provenance": [],
      "authorship_tag": "ABX9TyPNaA0F6g5eCaIF5E1HUVml",
      "include_colab_link": true
    },
    "kernelspec": {
      "name": "python3",
      "display_name": "Python 3"
    }
  },
  "cells": [
    {
      "cell_type": "markdown",
      "metadata": {
        "id": "view-in-github",
        "colab_type": "text"
      },
      "source": [
        "<a href=\"https://colab.research.google.com/github/kumarbirendra/ai-ml-analysis/blob/master/PointsPayMerchant.ipynb\" target=\"_parent\"><img src=\"https://colab.research.google.com/assets/colab-badge.svg\" alt=\"Open In Colab\"/></a>"
      ]
    },
    {
      "cell_type": "code",
      "metadata": {
        "id": "q5HV5sfwRzR8",
        "colab_type": "code",
        "colab": {}
      },
      "source": [
        "import pandas as pd\n",
        "import numpy as np\n",
        "import matplotlib.pyplot as plt\n",
        "import seaborn as sns\n",
        "import re\n",
        "%matplotlib inline"
      ],
      "execution_count": 2,
      "outputs": []
    },
    {
      "cell_type": "code",
      "metadata": {
        "id": "-I1kk2QFR4K3",
        "colab_type": "code",
        "colab": {}
      },
      "source": [
        "from urllib.request import urlopen\n",
        "from bs4 import BeautifulSoup"
      ],
      "execution_count": 3,
      "outputs": []
    },
    {
      "cell_type": "code",
      "metadata": {
        "id": "GrI8IJvfBQSS",
        "colab_type": "code",
        "colab": {}
      },
      "source": [
        "all_pointspay_merchant_list = []\n",
        "all_pointspay_merchant_list.append(\"https://www.moorni.com/checkout\")\n",
        "all_pointspay_merchant_list.append(\"https://www.moorni.com/checkout\")"
      ],
      "execution_count": 6,
      "outputs": []
    },
    {
      "cell_type": "code",
      "metadata": {
        "id": "YCUbt6MBR-Pa",
        "colab_type": "code",
        "colab": {
          "base_uri": "https://localhost:8080/",
          "height": 85
        },
        "outputId": "37e24cc9-2cba-4b37-fb1b-eb69f1021ab6"
      },
      "source": [
        "for pointspay_merchant_url in all_pointspay_merchant_list:\n",
        "  #url =  \"https://www.moorni.com/checkout\"\n",
        "  html = urlopen(pointspay_merchant_url)\n",
        "  soup = BeautifulSoup(html, 'lxml')\n",
        "\n",
        "  #get title\n",
        "  title = soup.title\n",
        "  str_cells = str(title)\n",
        "  clean = re.compile('<.*?>')\n",
        "  title = (re.sub(clean, '',str_cells))\n",
        "  \n",
        "  payment_options = soup.find_all(\"div\", {\"class\": \"checkbox\"})\n",
        "  all_payment_options = []\n",
        "  for option in payment_options:\n",
        "    #print(option)\n",
        "    option_cells= option.find_all('label')\n",
        "    str_cells = str(option_cells)\n",
        "    \n",
        "    cleanp2 = (re.sub(clean, '',str_cells))\n",
        "    if(cleanp2.find(\"PointsPay\") >=0):\n",
        "      print(\"PointsPay Supported Website\")\n",
        "      print(cleanp2)\n",
        "    all_payment_options.append(cleanp2)\n"
      ],
      "execution_count": 8,
      "outputs": [
        {
          "output_type": "stream",
          "text": [
            "PointsPay Supported Website\n",
            "[Pay with PointsPay]\n",
            "PointsPay Supported Website\n",
            "[Pay with PointsPay]\n"
          ],
          "name": "stdout"
        }
      ]
    },
    {
      "cell_type": "code",
      "metadata": {
        "id": "FtDv8b1LT1Vx",
        "colab_type": "code",
        "colab": {}
      },
      "source": [
        ""
      ],
      "execution_count": null,
      "outputs": []
    }
  ]
}