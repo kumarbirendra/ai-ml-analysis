{
  "nbformat": 4,
  "nbformat_minor": 0,
  "metadata": {
    "colab": {
      "name": "RJ.ipynb",
      "provenance": [],
      "authorship_tag": "ABX9TyO+TOFYsAu4F1SVBlEZrEUD",
      "include_colab_link": true
    },
    "kernelspec": {
      "name": "python3",
      "display_name": "Python 3"
    }
  },
  "cells": [
    {
      "cell_type": "markdown",
      "metadata": {
        "id": "view-in-github",
        "colab_type": "text"
      },
      "source": [
        "<a href=\"https://colab.research.google.com/github/kumarbirendra/ai-ml-analysis/blob/master/RJ.ipynb\" target=\"_parent\"><img src=\"https://colab.research.google.com/assets/colab-badge.svg\" alt=\"Open In Colab\"/></a>"
      ]
    },
    {
      "cell_type": "code",
      "metadata": {
        "id": "zbl-2yjg6Km6",
        "colab_type": "code",
        "colab": {}
      },
      "source": [
        "import requests\n",
        "import webbrowser\n",
        "import re\n",
        "from bs4 import BeautifulSoup\n"
      ],
      "execution_count": 12,
      "outputs": []
    },
    {
      "cell_type": "code",
      "metadata": {
        "id": "SGP-fQYH6NWx",
        "colab_type": "code",
        "colab": {}
      },
      "source": [
        "all_rj_merchant_list = []\n",
        "all_rj_merchant_list.append(\"https://royalclubrewards.rj.com/rexmerchantpage?merchantCode=MAL4613\")\n",
        "all_rj_merchant_list.append(\"https://royalclubrewards.rj.com/rexmerchantpage?merchantCode=MAL4044\")\n",
        "all_rj_merchant_list.append(\"https://royalclubrewards.rj.com/rexmerchantpage?merchantCode=MAL4036\")\n",
        "all_rj_merchant_list.append(\"https://royalclubrewards.rj.com/rexmerchantpage?merchantCode=MAL3992\")\n",
        "all_rj_merchant_list.append(\"https://royalclubrewards.rj.com/rexmerchantpage?merchantCode=MAL4546\")\n",
        "all_rj_merchant_list.append(\"https://royalclubrewards.rj.com/rexmerchantpage?merchantCode=MAL4489\")\n",
        "all_rj_merchant_list.append(\"https://royalclubrewards.rj.com/rexmerchantpage?merchantCode=MAL4547\")\n",
        "all_rj_merchant_list.append(\"https://royalclubrewards.rj.com/rexmerchantpage?merchantCode=MAL4510\")\n",
        "all_rj_merchant_list.append(\"https://royalclubrewards.rj.com/rexmerchantpage?merchantCode=MAL4514\")\n",
        "all_rj_merchant_list.append(\"https://royalclubrewards.rj.com/rexmerchantpage?merchantCode=MAL3940\")\n",
        "all_rj_merchant_list.append(\"https://royalclubrewards.rj.com/rexmerchantpage?merchantCode=MAL3850\")\n",
        "all_rj_merchant_list.append(\"https://royalclubrewards.rj.com/rexmerchantpage?merchantCode=MAL4778\")\n",
        "all_rj_merchant_list.append(\"https://royalclubrewards.rj.com/rexmerchantpage?merchantCode=MAL3864\")\n",
        "all_rj_merchant_list.append(\"https://royalclubrewards.rj.com/rexmerchantpage?merchantCode=MAL3945\")\n",
        "all_rj_merchant_list.append(\"https://royalclubrewards.rj.com/rexmerchantpage?merchantCode=MAL3865\")\n",
        "headers = {'User-Agent': 'Mozilla/5.0 (Windows NT 10.0; Win64; x64) AppleWebKit/537.36 (KHTML, like Gecko) Chrome/84.0.4147.89 Safari/537.36','Accept-Encoding': 'gzip, deflate', 'Accept': '*/*', 'Connection': 'keep-alive'}\n"
      ],
      "execution_count": 15,
      "outputs": []
    },
    {
      "cell_type": "code",
      "metadata": {
        "id": "reMECs0K6UpG",
        "colab_type": "code",
        "colab": {
          "base_uri": "https://localhost:8080/",
          "height": 340
        },
        "outputId": "de129d08-cbf2-4526-f67d-9f86bf636034"
      },
      "source": [
        "session = requests.Session()\n",
        "merchant_link_working =0\n",
        "merchant_link_not_working = 0\n",
        "for rj_merchant in all_rj_merchant_list:\n",
        "  #print(rj_merchant)\n",
        "  r = session.get(rj_merchant,headers=headers)\n",
        "  soup = BeautifulSoup(r.text, 'lxml')\n",
        "  data = soup.text\n",
        "  str_cells = str(data)\n",
        "  clean = re.compile('<.*?>')\n",
        "  clean_data = (re.sub(clean, '',str_cells))\n",
        "  if(str(clean_data).find(\"Royal Club Rewards Store\")>= 0):\n",
        "    print(\"Merchant shop link is working :- \" + rj_merchant)\n",
        "    merchant_link_working = merchant_link_working + 1\n",
        "  else:\n",
        "    print(\"Merchant shop link is **not working :- \" + rj_merchant)\n",
        "    merchant_link_not_working = merchant_link_not_working + 1\n",
        "\n",
        "print(\"=========================================================================================================\")\n",
        "print(\"=========================================================================================================\")\n",
        "print (\"***************Total Royal Club Rewards Store Merchant Working      : \" + str(merchant_link_working) +\"      ****************\")\n",
        "print (\"***************Total Royal Club Rewards Store Merchant *Not Working : \" + str(merchant_link_not_working) +\"        *****************\")"
      ],
      "execution_count": 16,
      "outputs": [
        {
          "output_type": "stream",
          "text": [
            "Merchant shop link is working :- https://royalclubrewards.rj.com/rexmerchantpage?merchantCode=MAL4613\n",
            "Merchant shop link is working :- https://royalclubrewards.rj.com/rexmerchantpage?merchantCode=MAL4044\n",
            "Merchant shop link is working :- https://royalclubrewards.rj.com/rexmerchantpage?merchantCode=MAL4036\n",
            "Merchant shop link is working :- https://royalclubrewards.rj.com/rexmerchantpage?merchantCode=MAL3992\n",
            "Merchant shop link is working :- https://royalclubrewards.rj.com/rexmerchantpage?merchantCode=MAL4546\n",
            "Merchant shop link is working :- https://royalclubrewards.rj.com/rexmerchantpage?merchantCode=MAL4489\n",
            "Merchant shop link is working :- https://royalclubrewards.rj.com/rexmerchantpage?merchantCode=MAL4547\n",
            "Merchant shop link is working :- https://royalclubrewards.rj.com/rexmerchantpage?merchantCode=MAL4510\n",
            "Merchant shop link is working :- https://royalclubrewards.rj.com/rexmerchantpage?merchantCode=MAL4514\n",
            "Merchant shop link is working :- https://royalclubrewards.rj.com/rexmerchantpage?merchantCode=MAL3940\n",
            "Merchant shop link is working :- https://royalclubrewards.rj.com/rexmerchantpage?merchantCode=MAL3850\n",
            "Merchant shop link is working :- https://royalclubrewards.rj.com/rexmerchantpage?merchantCode=MAL4778\n",
            "Merchant shop link is working :- https://royalclubrewards.rj.com/rexmerchantpage?merchantCode=MAL3864\n",
            "Merchant shop link is working :- https://royalclubrewards.rj.com/rexmerchantpage?merchantCode=MAL3945\n",
            "Merchant shop link is working :- https://royalclubrewards.rj.com/rexmerchantpage?merchantCode=MAL3865\n",
            "=========================================================================================================\n",
            "=========================================================================================================\n",
            "***************Total Royal Club Rewards Store Merchant Working      : 15      ****************\n",
            "***************Total Royal Club Rewards Store Merchant *Not Working : 0        *****************\n"
          ],
          "name": "stdout"
        }
      ]
    },
    {
      "cell_type": "code",
      "metadata": {
        "id": "I86kZtqB62Xn",
        "colab_type": "code",
        "colab": {}
      },
      "source": [
        ""
      ],
      "execution_count": null,
      "outputs": []
    }
  ]
}