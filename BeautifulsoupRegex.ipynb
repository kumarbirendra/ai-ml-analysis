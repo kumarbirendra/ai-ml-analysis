{
  "nbformat": 4,
  "nbformat_minor": 0,
  "metadata": {
    "colab": {
      "name": "BeautifulsoupRegex.ipynb",
      "provenance": [],
      "authorship_tag": "ABX9TyPzYvXhtjU5K1wCdL9f2My2",
      "include_colab_link": true
    },
    "kernelspec": {
      "name": "python3",
      "display_name": "Python 3"
    }
  },
  "cells": [
    {
      "cell_type": "markdown",
      "metadata": {
        "id": "view-in-github",
        "colab_type": "text"
      },
      "source": [
        "<a href=\"https://colab.research.google.com/github/kumarbirendra/ai-ml-analysis/blob/master/BeautifulsoupRegex.ipynb\" target=\"_parent\"><img src=\"https://colab.research.google.com/assets/colab-badge.svg\" alt=\"Open In Colab\"/></a>"
      ]
    },
    {
      "cell_type": "code",
      "metadata": {
        "id": "-TbV62g6v22M",
        "colab_type": "code",
        "colab": {
          "base_uri": "https://localhost:8080/",
          "height": 1000
        },
        "outputId": "11bbc05a-026f-4262-cd04-4b76929cc821"
      },
      "source": [
        "from bs4 import BeautifulSoup\n",
        "from urllib.request import urlopen\n",
        "import re\n",
        "\n",
        "# if has Chinese, apply decode()\n",
        "html = urlopen(\"https://morvanzhou.github.io/static/scraping/table.html\").read().decode('utf-8')\n",
        "print(html)"
      ],
      "execution_count": 1,
      "outputs": [
        {
          "output_type": "stream",
          "text": [
            "<!DOCTYPE html>\n",
            "<html lang=\"cn\">\n",
            "<head>\n",
            "\t<meta charset=\"UTF-8\">\n",
            "\t<title>爬虫练习 表格 table | 莫烦 Python</title>\n",
            "\n",
            "\t<style>\n",
            "\timg {\n",
            "\t\twidth: 250px;\n",
            "\t}\n",
            "\ttable{\n",
            "\t\twidth:50%;\n",
            "\t}\n",
            "\ttd{\n",
            "\t\tmargin:10px;\n",
            "\t\tpadding:15px;\n",
            "\t}\n",
            "\t</style>\n",
            "</head>\n",
            "<body>\n",
            "\n",
            "<h1>表格 爬虫练习</h1>\n",
            "\n",
            "<p>这是一个在 <a href=\"https://morvanzhou.github.io/\" >莫烦 Python</a> 的 <a href=\"https://morvanzhou.github.io/tutorials/data-manipulation/scraping/\" >爬虫教程</a>\n",
            "\t里无敌简单的网页, 所有的 code 让你一目了然, 清晰无比.</p>\n",
            "\n",
            "<br>\n",
            "<table id=\"course-list\">\n",
            "\t<tr>\n",
            "\t\t<th>\n",
            "\t\t\t分类\n",
            "\t\t</th><th>\n",
            "\t\t\t名字\n",
            "\t\t</th><th>\n",
            "\t\t\t时长\n",
            "\t\t</th><th>\n",
            "\t\t\t预览\n",
            "\t\t</th>\n",
            "\t</tr>\n",
            "\n",
            "\t<tr id=\"course1\" class=\"ml\">\n",
            "\t\t<td>\n",
            "\t\t\t机器学习\n",
            "\t\t</td><td>\n",
            "\t\t\t<a href=\"https://morvanzhou.github.io/tutorials/machine-learning/tensorflow/\">\n",
            "\t\t\t\tTensorflow 神经网络</a>\n",
            "\t\t</td><td>\n",
            "\t\t\t2:00\n",
            "\t\t</td><td>\n",
            "\t\t\t<img src=\"https://morvanzhou.github.io/static/img/course_cover/tf.jpg\">\n",
            "\t\t</td>\n",
            "\t</tr>\n",
            "\n",
            "\t<tr id=\"course2\" class=\"ml\">\n",
            "\t\t<td>\n",
            "\t\t\t机器学习\n",
            "\t\t</td><td>\n",
            "\t\t\t<a href=\"https://morvanzhou.github.io/tutorials/machine-learning/reinforcement-learning/\">\n",
            "\t\t\t\t强化学习</a>\n",
            "\t\t</td><td>\n",
            "\t\t\t5:00\n",
            "\t\t</td><td>\n",
            "\t\t\t<img src=\"https://morvanzhou.github.io/static/img/course_cover/rl.jpg\">\n",
            "\t\t</td>\n",
            "\t</tr>\n",
            "\n",
            "\t<tr id=\"course3\" class=\"data\">\n",
            "\t\t<td>\n",
            "\t\t\t数据处理\n",
            "\t\t</td><td>\n",
            "\t\t\t<a href=\"https://morvanzhou.github.io/tutorials/data-manipulation/scraping/\">\n",
            "\t\t\t\t爬虫</a>\n",
            "\t\t</td><td>\n",
            "\t\t\t3:00\n",
            "\t\t</td><td>\n",
            "\t\t\t<img src=\"https://morvanzhou.github.io/static/img/course_cover/scraping.jpg\">\n",
            "\t\t</td>\n",
            "\t</tr>\n",
            "\n",
            "</table>\n",
            "\n",
            "</body>\n",
            "</html>\n"
          ],
          "name": "stdout"
        }
      ]
    },
    {
      "cell_type": "code",
      "metadata": {
        "id": "YTPKwwOov-16",
        "colab_type": "code",
        "colab": {
          "base_uri": "https://localhost:8080/",
          "height": 68
        },
        "outputId": "0f0c83a8-ee0d-4060-f527-2ba5c32a19b8"
      },
      "source": [
        "soup = BeautifulSoup(html, features='lxml')\n",
        "\n",
        "img_links = soup.find_all(\"img\", {\"src\": re.compile('.*?\\.jpg')})\n",
        "for link in img_links:\n",
        "    print(link['src'])"
      ],
      "execution_count": 2,
      "outputs": [
        {
          "output_type": "stream",
          "text": [
            "https://morvanzhou.github.io/static/img/course_cover/tf.jpg\n",
            "https://morvanzhou.github.io/static/img/course_cover/rl.jpg\n",
            "https://morvanzhou.github.io/static/img/course_cover/scraping.jpg\n"
          ],
          "name": "stdout"
        }
      ]
    },
    {
      "cell_type": "code",
      "metadata": {
        "id": "1njiyufOwNXS",
        "colab_type": "code",
        "colab": {
          "base_uri": "https://localhost:8080/",
          "height": 102
        },
        "outputId": "94816b1d-1723-4ba1-af2a-68c60edea9b1"
      },
      "source": [
        "course_links = soup.find_all('a', {'href': re.compile('https://morvan.*')})\n",
        "for link in course_links:\n",
        "    print(link['href'])"
      ],
      "execution_count": 3,
      "outputs": [
        {
          "output_type": "stream",
          "text": [
            "https://morvanzhou.github.io/\n",
            "https://morvanzhou.github.io/tutorials/data-manipulation/scraping/\n",
            "https://morvanzhou.github.io/tutorials/machine-learning/tensorflow/\n",
            "https://morvanzhou.github.io/tutorials/machine-learning/reinforcement-learning/\n",
            "https://morvanzhou.github.io/tutorials/data-manipulation/scraping/\n"
          ],
          "name": "stdout"
        }
      ]
    },
    {
      "cell_type": "code",
      "metadata": {
        "id": "zm8M_L2bwZq4",
        "colab_type": "code",
        "colab": {}
      },
      "source": [
        ""
      ],
      "execution_count": null,
      "outputs": []
    }
  ]
}